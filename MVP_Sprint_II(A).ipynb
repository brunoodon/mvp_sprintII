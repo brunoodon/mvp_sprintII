{
  "nbformat": 4,
  "nbformat_minor": 0,
  "metadata": {
    "colab": {
      "provenance": [],
      "authorship_tag": "ABX9TyMkzUHtE5k8FpfrIsAydi3h",
      "include_colab_link": true
    },
    "kernelspec": {
      "name": "python3",
      "display_name": "Python 3"
    },
    "language_info": {
      "name": "python"
    }
  },
  "cells": [
    {
      "cell_type": "markdown",
      "metadata": {
        "id": "view-in-github",
        "colab_type": "text"
      },
      "source": [
        "<a href=\"https://colab.research.google.com/github/brunoodon/mvp_sprintII/blob/main/MVP_Sprint_II(A).ipynb\" target=\"_parent\"><img src=\"https://colab.research.google.com/assets/colab-badge.svg\" alt=\"Open In Colab\"/></a>"
      ]
    },
    {
      "cell_type": "markdown",
      "source": [
        "# **MVP - Machine Learning - Sprint II**"
      ],
      "metadata": {
        "id": "SArLtX9CcZdF"
      }
    },
    {
      "cell_type": "markdown",
      "source": [
        "# Definição do problema\n",
        "É um problema de classificação, com aprendizado supervisionado. Trata-se de um dataset de transações de BitCoin para resgate de arquivos criptografados por Ransomwares.\n",
        "O objetivo deste modelo é tentar prever o tipo de Ransomware baseado no aprendizado dos dados das transações durante os anos.\n",
        "## Descrição do dataset:\n",
        "O Bitcoin Heist Data é um histórico de transações de criptomoedas coletadas com 24 horas de intervalo. Os destinos dessas transações são grupos de criminosos que criptografaram arquivos de vitmas ao redor do mundo via infecção por Ransomwares diversos. Nesse caso, o criminoso emitia uma nota de resgate com o endereço para pagamento do resgate dos arquivos.\n",
        "\n",
        "**Campos do dataset:**\n",
        "\n",
        "address: endereço de bitcoin - String;\n",
        "\n",
        "year: ano da transação - Integer;\n",
        "\n",
        "day: dia do ano (dias corridos - de 1 a 365) - Integer;\n",
        "\n",
        "length: Integer;\n",
        "\n",
        "weight: Float;\n",
        "\n",
        "count: Integer;\n",
        "\n",
        "looped: Integer;\n",
        "\n",
        "neighbors: Integer;\n",
        "\n",
        "income: quantidade de Satoshis depositados (1 bitcoin = 100 milhões de Satoshis) - Integer;\n",
        "\n",
        "label(target): família de Ransomware que infectou a vítima. Quando o label é 'White', significa que não foi possível detectar se a transação foi para pagamento de resgate ou não - String.\n",
        "\n",
        "\n",
        "\n",
        "\n",
        "\n",
        "\n",
        "\n"
      ],
      "metadata": {
        "id": "pSKFC-pYyicI"
      }
    },
    {
      "cell_type": "code",
      "source": [
        "\n",
        "import pandas as pd\n",
        "import warnings\n",
        "warnings.filterwarnings(\"ignore\")\n",
        "import numpy as np\n",
        "import csv\n",
        "import matplotlib.pyplot as plt\n",
        "import matplotlib.patches as mpatches\n",
        "##importando os módulos da biblioteca sklearn para realizar a modelagem\n",
        "from sklearn.model_selection import train_test_split\n",
        "from sklearn.model_selection import KFold\n",
        "from sklearn.model_selection import cross_val_score\n",
        "from sklearn.metrics import accuracy_score\n",
        "from sklearn.neighbors import KNeighborsClassifier\n",
        "from sklearn.tree import DecisionTreeClassifier\n",
        "from sklearn.naive_bayes import GaussianNB\n",
        "from sklearn.svm import SVC"
      ],
      "metadata": {
        "id": "oH8M95xduyxe"
      },
      "execution_count": 1,
      "outputs": []
    },
    {
      "cell_type": "markdown",
      "source": [
        "#Preparação dos dados"
      ],
      "metadata": {
        "id": "JcI5tvGsH38B"
      }
    },
    {
      "cell_type": "markdown",
      "source": [
        "Neste estágio, vamos carregar o dataset, ordenar por ano (mais recente) e tratar os missgins."
      ],
      "metadata": {
        "id": "0OhB8kENmDiM"
      }
    },
    {
      "cell_type": "code",
      "source": [
        "#carregando o dataset\n",
        "url = 'https://raw.githubusercontent.com/brunoodon/mvp_sprintII/main/BitcoinHeistData_MVP.csv'\n",
        "dataset = pd.read_csv(url).sort_values(by='year', ascending=False)\n",
        "#Limpando os missings do dataset e fazendo a verificação de que realmente não existem\n",
        "dataset.dropna(inplace=True)\n",
        "display(dataset)\n",
        "missings = dataset.isnull().sum()\n",
        "display(missings)"
      ],
      "metadata": {
        "id": "QG9AFZaYH2hJ",
        "outputId": "db6538e6-0e91-4b42-b5cc-1973ba64de9e",
        "colab": {
          "base_uri": "https://localhost:8080/",
          "height": 658
        }
      },
      "execution_count": 2,
      "outputs": [
        {
          "output_type": "display_data",
          "data": {
            "text/plain": [
              "                                 address  year  day  length    weight  count  \\\n",
              "0      111K8kZAEnJg245r2cM6y9zgJGHZtJPy6  2017   11      18  0.008333      1   \n",
              "763   12iETtj5gKJ5vz26rUGQtnifDjJy3FHhJX  2017   34      14  0.062500      1   \n",
              "797   12im6r2cFxu7aonCQrz8gedA8XPKkWUWk2  2017   35       2  0.100000      1   \n",
              "800   12ir91LHrWN8Pdt3V9kYgosjPbiLDTu8fN  2017   23      10  1.000000      3   \n",
              "3677  13V7WsqJDnQ7v56jFkKNTMihJQMdvL3WYg  2017   37       4  0.015625      1   \n",
              "...                                  ...   ...  ...     ...       ...    ...   \n",
              "1717  12wQZTDmA8onM3sEt4jwcvzDxnNXxD8Vza  2011  363       0  0.050195      2   \n",
              "1710  12wQZTDmA8onM3sEt4jwcvzDxnNXxD8Vza  2011  359       0  0.019608      1   \n",
              "4467  14EZSJRGdxaioeDETxskw4FN69NeDjqQNT  2011  291       4  0.125000      1   \n",
              "1695  12wQZTDmA8onM3sEt4jwcvzDxnNXxD8Vza  2011  357      12  0.446947     54   \n",
              "1577  12wQZTDmA8onM3sEt4jwcvzDxnNXxD8Vza  2011  339       2  0.002198      2   \n",
              "\n",
              "      looped  neighbors       income                 label  \n",
              "0          0          2  100050000.0       princetonCerber  \n",
              "763        0          2   80000000.0       princetonCerber  \n",
              "797        0          2   75000000.0       princetonCerber  \n",
              "800        0          1  400000000.0        princetonLocky  \n",
              "3677       0          2   75000000.0       princetonCerber  \n",
              "...      ...        ...          ...                   ...  \n",
              "1717       0          4  110100526.0  montrealCryptoLocker  \n",
              "1710       0          2   60065981.0  montrealCryptoLocker  \n",
              "4467       0          2   52036465.0  montrealCryptoLocker  \n",
              "1695       0          3  476565460.0  montrealCryptoLocker  \n",
              "1577       0          2   55694856.0  montrealCryptoLocker  \n",
              "\n",
              "[5016 rows x 10 columns]"
            ],
            "text/html": [
              "\n",
              "\n",
              "  <div id=\"df-4182450f-a649-40b6-845c-1d17d1563f55\">\n",
              "    <div class=\"colab-df-container\">\n",
              "      <div>\n",
              "<style scoped>\n",
              "    .dataframe tbody tr th:only-of-type {\n",
              "        vertical-align: middle;\n",
              "    }\n",
              "\n",
              "    .dataframe tbody tr th {\n",
              "        vertical-align: top;\n",
              "    }\n",
              "\n",
              "    .dataframe thead th {\n",
              "        text-align: right;\n",
              "    }\n",
              "</style>\n",
              "<table border=\"1\" class=\"dataframe\">\n",
              "  <thead>\n",
              "    <tr style=\"text-align: right;\">\n",
              "      <th></th>\n",
              "      <th>address</th>\n",
              "      <th>year</th>\n",
              "      <th>day</th>\n",
              "      <th>length</th>\n",
              "      <th>weight</th>\n",
              "      <th>count</th>\n",
              "      <th>looped</th>\n",
              "      <th>neighbors</th>\n",
              "      <th>income</th>\n",
              "      <th>label</th>\n",
              "    </tr>\n",
              "  </thead>\n",
              "  <tbody>\n",
              "    <tr>\n",
              "      <th>0</th>\n",
              "      <td>111K8kZAEnJg245r2cM6y9zgJGHZtJPy6</td>\n",
              "      <td>2017</td>\n",
              "      <td>11</td>\n",
              "      <td>18</td>\n",
              "      <td>0.008333</td>\n",
              "      <td>1</td>\n",
              "      <td>0</td>\n",
              "      <td>2</td>\n",
              "      <td>100050000.0</td>\n",
              "      <td>princetonCerber</td>\n",
              "    </tr>\n",
              "    <tr>\n",
              "      <th>763</th>\n",
              "      <td>12iETtj5gKJ5vz26rUGQtnifDjJy3FHhJX</td>\n",
              "      <td>2017</td>\n",
              "      <td>34</td>\n",
              "      <td>14</td>\n",
              "      <td>0.062500</td>\n",
              "      <td>1</td>\n",
              "      <td>0</td>\n",
              "      <td>2</td>\n",
              "      <td>80000000.0</td>\n",
              "      <td>princetonCerber</td>\n",
              "    </tr>\n",
              "    <tr>\n",
              "      <th>797</th>\n",
              "      <td>12im6r2cFxu7aonCQrz8gedA8XPKkWUWk2</td>\n",
              "      <td>2017</td>\n",
              "      <td>35</td>\n",
              "      <td>2</td>\n",
              "      <td>0.100000</td>\n",
              "      <td>1</td>\n",
              "      <td>0</td>\n",
              "      <td>2</td>\n",
              "      <td>75000000.0</td>\n",
              "      <td>princetonCerber</td>\n",
              "    </tr>\n",
              "    <tr>\n",
              "      <th>800</th>\n",
              "      <td>12ir91LHrWN8Pdt3V9kYgosjPbiLDTu8fN</td>\n",
              "      <td>2017</td>\n",
              "      <td>23</td>\n",
              "      <td>10</td>\n",
              "      <td>1.000000</td>\n",
              "      <td>3</td>\n",
              "      <td>0</td>\n",
              "      <td>1</td>\n",
              "      <td>400000000.0</td>\n",
              "      <td>princetonLocky</td>\n",
              "    </tr>\n",
              "    <tr>\n",
              "      <th>3677</th>\n",
              "      <td>13V7WsqJDnQ7v56jFkKNTMihJQMdvL3WYg</td>\n",
              "      <td>2017</td>\n",
              "      <td>37</td>\n",
              "      <td>4</td>\n",
              "      <td>0.015625</td>\n",
              "      <td>1</td>\n",
              "      <td>0</td>\n",
              "      <td>2</td>\n",
              "      <td>75000000.0</td>\n",
              "      <td>princetonCerber</td>\n",
              "    </tr>\n",
              "    <tr>\n",
              "      <th>...</th>\n",
              "      <td>...</td>\n",
              "      <td>...</td>\n",
              "      <td>...</td>\n",
              "      <td>...</td>\n",
              "      <td>...</td>\n",
              "      <td>...</td>\n",
              "      <td>...</td>\n",
              "      <td>...</td>\n",
              "      <td>...</td>\n",
              "      <td>...</td>\n",
              "    </tr>\n",
              "    <tr>\n",
              "      <th>1717</th>\n",
              "      <td>12wQZTDmA8onM3sEt4jwcvzDxnNXxD8Vza</td>\n",
              "      <td>2011</td>\n",
              "      <td>363</td>\n",
              "      <td>0</td>\n",
              "      <td>0.050195</td>\n",
              "      <td>2</td>\n",
              "      <td>0</td>\n",
              "      <td>4</td>\n",
              "      <td>110100526.0</td>\n",
              "      <td>montrealCryptoLocker</td>\n",
              "    </tr>\n",
              "    <tr>\n",
              "      <th>1710</th>\n",
              "      <td>12wQZTDmA8onM3sEt4jwcvzDxnNXxD8Vza</td>\n",
              "      <td>2011</td>\n",
              "      <td>359</td>\n",
              "      <td>0</td>\n",
              "      <td>0.019608</td>\n",
              "      <td>1</td>\n",
              "      <td>0</td>\n",
              "      <td>2</td>\n",
              "      <td>60065981.0</td>\n",
              "      <td>montrealCryptoLocker</td>\n",
              "    </tr>\n",
              "    <tr>\n",
              "      <th>4467</th>\n",
              "      <td>14EZSJRGdxaioeDETxskw4FN69NeDjqQNT</td>\n",
              "      <td>2011</td>\n",
              "      <td>291</td>\n",
              "      <td>4</td>\n",
              "      <td>0.125000</td>\n",
              "      <td>1</td>\n",
              "      <td>0</td>\n",
              "      <td>2</td>\n",
              "      <td>52036465.0</td>\n",
              "      <td>montrealCryptoLocker</td>\n",
              "    </tr>\n",
              "    <tr>\n",
              "      <th>1695</th>\n",
              "      <td>12wQZTDmA8onM3sEt4jwcvzDxnNXxD8Vza</td>\n",
              "      <td>2011</td>\n",
              "      <td>357</td>\n",
              "      <td>12</td>\n",
              "      <td>0.446947</td>\n",
              "      <td>54</td>\n",
              "      <td>0</td>\n",
              "      <td>3</td>\n",
              "      <td>476565460.0</td>\n",
              "      <td>montrealCryptoLocker</td>\n",
              "    </tr>\n",
              "    <tr>\n",
              "      <th>1577</th>\n",
              "      <td>12wQZTDmA8onM3sEt4jwcvzDxnNXxD8Vza</td>\n",
              "      <td>2011</td>\n",
              "      <td>339</td>\n",
              "      <td>2</td>\n",
              "      <td>0.002198</td>\n",
              "      <td>2</td>\n",
              "      <td>0</td>\n",
              "      <td>2</td>\n",
              "      <td>55694856.0</td>\n",
              "      <td>montrealCryptoLocker</td>\n",
              "    </tr>\n",
              "  </tbody>\n",
              "</table>\n",
              "<p>5016 rows × 10 columns</p>\n",
              "</div>\n",
              "      <button class=\"colab-df-convert\" onclick=\"convertToInteractive('df-4182450f-a649-40b6-845c-1d17d1563f55')\"\n",
              "              title=\"Convert this dataframe to an interactive table.\"\n",
              "              style=\"display:none;\">\n",
              "\n",
              "  <svg xmlns=\"http://www.w3.org/2000/svg\" height=\"24px\"viewBox=\"0 0 24 24\"\n",
              "       width=\"24px\">\n",
              "    <path d=\"M0 0h24v24H0V0z\" fill=\"none\"/>\n",
              "    <path d=\"M18.56 5.44l.94 2.06.94-2.06 2.06-.94-2.06-.94-.94-2.06-.94 2.06-2.06.94zm-11 1L8.5 8.5l.94-2.06 2.06-.94-2.06-.94L8.5 2.5l-.94 2.06-2.06.94zm10 10l.94 2.06.94-2.06 2.06-.94-2.06-.94-.94-2.06-.94 2.06-2.06.94z\"/><path d=\"M17.41 7.96l-1.37-1.37c-.4-.4-.92-.59-1.43-.59-.52 0-1.04.2-1.43.59L10.3 9.45l-7.72 7.72c-.78.78-.78 2.05 0 2.83L4 21.41c.39.39.9.59 1.41.59.51 0 1.02-.2 1.41-.59l7.78-7.78 2.81-2.81c.8-.78.8-2.07 0-2.86zM5.41 20L4 18.59l7.72-7.72 1.47 1.35L5.41 20z\"/>\n",
              "  </svg>\n",
              "      </button>\n",
              "\n",
              "\n",
              "\n",
              "    <div id=\"df-9dfd61ca-5320-4f21-aded-4047fd783855\">\n",
              "      <button class=\"colab-df-quickchart\" onclick=\"quickchart('df-9dfd61ca-5320-4f21-aded-4047fd783855')\"\n",
              "              title=\"Suggest charts.\"\n",
              "              style=\"display:none;\">\n",
              "\n",
              "<svg xmlns=\"http://www.w3.org/2000/svg\" height=\"24px\"viewBox=\"0 0 24 24\"\n",
              "     width=\"24px\">\n",
              "    <g>\n",
              "        <path d=\"M19 3H5c-1.1 0-2 .9-2 2v14c0 1.1.9 2 2 2h14c1.1 0 2-.9 2-2V5c0-1.1-.9-2-2-2zM9 17H7v-7h2v7zm4 0h-2V7h2v10zm4 0h-2v-4h2v4z\"/>\n",
              "    </g>\n",
              "</svg>\n",
              "      </button>\n",
              "    </div>\n",
              "\n",
              "<style>\n",
              "  .colab-df-quickchart {\n",
              "    background-color: #E8F0FE;\n",
              "    border: none;\n",
              "    border-radius: 50%;\n",
              "    cursor: pointer;\n",
              "    display: none;\n",
              "    fill: #1967D2;\n",
              "    height: 32px;\n",
              "    padding: 0 0 0 0;\n",
              "    width: 32px;\n",
              "  }\n",
              "\n",
              "  .colab-df-quickchart:hover {\n",
              "    background-color: #E2EBFA;\n",
              "    box-shadow: 0px 1px 2px rgba(60, 64, 67, 0.3), 0px 1px 3px 1px rgba(60, 64, 67, 0.15);\n",
              "    fill: #174EA6;\n",
              "  }\n",
              "\n",
              "  [theme=dark] .colab-df-quickchart {\n",
              "    background-color: #3B4455;\n",
              "    fill: #D2E3FC;\n",
              "  }\n",
              "\n",
              "  [theme=dark] .colab-df-quickchart:hover {\n",
              "    background-color: #434B5C;\n",
              "    box-shadow: 0px 1px 3px 1px rgba(0, 0, 0, 0.15);\n",
              "    filter: drop-shadow(0px 1px 2px rgba(0, 0, 0, 0.3));\n",
              "    fill: #FFFFFF;\n",
              "  }\n",
              "</style>\n",
              "\n",
              "    <script>\n",
              "      async function quickchart(key) {\n",
              "        const containerElement = document.querySelector('#' + key);\n",
              "        const charts = await google.colab.kernel.invokeFunction(\n",
              "            'suggestCharts', [key], {});\n",
              "      }\n",
              "    </script>\n",
              "\n",
              "      <script>\n",
              "\n",
              "function displayQuickchartButton(domScope) {\n",
              "  let quickchartButtonEl =\n",
              "    domScope.querySelector('#df-9dfd61ca-5320-4f21-aded-4047fd783855 button.colab-df-quickchart');\n",
              "  quickchartButtonEl.style.display =\n",
              "    google.colab.kernel.accessAllowed ? 'block' : 'none';\n",
              "}\n",
              "\n",
              "        displayQuickchartButton(document);\n",
              "      </script>\n",
              "      <style>\n",
              "    .colab-df-container {\n",
              "      display:flex;\n",
              "      flex-wrap:wrap;\n",
              "      gap: 12px;\n",
              "    }\n",
              "\n",
              "    .colab-df-convert {\n",
              "      background-color: #E8F0FE;\n",
              "      border: none;\n",
              "      border-radius: 50%;\n",
              "      cursor: pointer;\n",
              "      display: none;\n",
              "      fill: #1967D2;\n",
              "      height: 32px;\n",
              "      padding: 0 0 0 0;\n",
              "      width: 32px;\n",
              "    }\n",
              "\n",
              "    .colab-df-convert:hover {\n",
              "      background-color: #E2EBFA;\n",
              "      box-shadow: 0px 1px 2px rgba(60, 64, 67, 0.3), 0px 1px 3px 1px rgba(60, 64, 67, 0.15);\n",
              "      fill: #174EA6;\n",
              "    }\n",
              "\n",
              "    [theme=dark] .colab-df-convert {\n",
              "      background-color: #3B4455;\n",
              "      fill: #D2E3FC;\n",
              "    }\n",
              "\n",
              "    [theme=dark] .colab-df-convert:hover {\n",
              "      background-color: #434B5C;\n",
              "      box-shadow: 0px 1px 3px 1px rgba(0, 0, 0, 0.15);\n",
              "      filter: drop-shadow(0px 1px 2px rgba(0, 0, 0, 0.3));\n",
              "      fill: #FFFFFF;\n",
              "    }\n",
              "  </style>\n",
              "\n",
              "      <script>\n",
              "        const buttonEl =\n",
              "          document.querySelector('#df-4182450f-a649-40b6-845c-1d17d1563f55 button.colab-df-convert');\n",
              "        buttonEl.style.display =\n",
              "          google.colab.kernel.accessAllowed ? 'block' : 'none';\n",
              "\n",
              "        async function convertToInteractive(key) {\n",
              "          const element = document.querySelector('#df-4182450f-a649-40b6-845c-1d17d1563f55');\n",
              "          const dataTable =\n",
              "            await google.colab.kernel.invokeFunction('convertToInteractive',\n",
              "                                                     [key], {});\n",
              "          if (!dataTable) return;\n",
              "\n",
              "          const docLinkHtml = 'Like what you see? Visit the ' +\n",
              "            '<a target=\"_blank\" href=https://colab.research.google.com/notebooks/data_table.ipynb>data table notebook</a>'\n",
              "            + ' to learn more about interactive tables.';\n",
              "          element.innerHTML = '';\n",
              "          dataTable['output_type'] = 'display_data';\n",
              "          await google.colab.output.renderOutput(dataTable, element);\n",
              "          const docLink = document.createElement('div');\n",
              "          docLink.innerHTML = docLinkHtml;\n",
              "          element.appendChild(docLink);\n",
              "        }\n",
              "      </script>\n",
              "    </div>\n",
              "  </div>\n"
            ]
          },
          "metadata": {}
        },
        {
          "output_type": "display_data",
          "data": {
            "text/plain": [
              "address      0\n",
              "year         0\n",
              "day          0\n",
              "length       0\n",
              "weight       0\n",
              "count        0\n",
              "looped       0\n",
              "neighbors    0\n",
              "income       0\n",
              "label        0\n",
              "dtype: int64"
            ]
          },
          "metadata": {}
        }
      ]
    },
    {
      "cell_type": "markdown",
      "source": [
        "Para facilitar a análise, vamos fazer uma representação gráfica da distribuição de transações de resgate de arquivos por ano e as respectivas famílias de Ransomwares que causaram o problema.\n",
        "\n",
        "Importante atentar para o fato de que algumas transações de resgate ocorreram exclusivamente em um ano específico, como o caso da família montrealWannaCry, em 2017."
      ],
      "metadata": {
        "id": "y-4J00VX82BN"
      }
    },
    {
      "cell_type": "code",
      "source": [
        "#definindo o dataframe e os eixos para a exibição do gráfico tipo scatter plotter\n",
        "df = dataset[[\"year\", \"label\"]]\n",
        "plt.figure(figsize=(5,8))\n",
        "y = df['label']\n",
        "x = df['year']\n",
        "plt.scatter(x, y)\n",
        "plt.title(\"Proporção de transações de resgate por ano Ano\")\n",
        "plt.xlabel(\"Ano\")\n",
        "plt.ylabel(\"Família de Ransomware\")\n",
        "plt.grid(True)\n",
        "plt.show()\n"
      ],
      "metadata": {
        "colab": {
          "base_uri": "https://localhost:8080/",
          "height": 718
        },
        "id": "3DLsC-L3zIOW",
        "outputId": "4f1d2d63-567b-47b8-e2c0-23ab14ce27fa"
      },
      "execution_count": 3,
      "outputs": [
        {
          "output_type": "display_data",
          "data": {
            "text/plain": [
              "<Figure size 500x800 with 1 Axes>"
            ],
            "image/png": "[encoded data removed]"
          },
          "metadata": {}
        }
      ]
    },
    {
      "cell_type": "markdown",
      "source": [
        "# Separação e Transformação dos dados"
      ],
      "metadata": {
        "id": "eiOzcVq5HB8J"
      }
    },
    {
      "cell_type": "markdown",
      "source": [
        "Aqui, vamos fazer a normalização dos dados e a sepação em conjuntos de treino e teste."
      ],
      "metadata": {
        "id": "qpnIYHR4IeYq"
      }
    },
    {
      "cell_type": "code",
      "source": [
        "array = dataset.values\n",
        "X = array[:,1:9]\n",
        "max = np.max(X)\n",
        "min = np.min(X)\n",
        "X_norm = (X - min) / (max - min)\n",
        "y = array[:,9]\n",
        "#X_train, X_test, y_train, y_test, = train_test_split(X, y, test_size=0.20, random_state=7)\n",
        "X_norm_train, X_norm_test, y_train, y_test, = train_test_split(X_norm, y, test_size=0.20, random_state=7)\n",
        "display(X_norm)"
      ],
      "metadata": {
        "colab": {
          "base_uri": "https://localhost:8080/",
          "height": 347
        },
        "id": "pIGYeHyF0MrO",
        "outputId": "504a3bc6-ab8b-43f7-9c00-d5730319d98d"
      },
      "execution_count": 4,
      "outputs": [
        {
          "output_type": "display_data",
          "data": {
            "text/plain": [
              "array([[4.532584269662922e-09, 2.4719101123595506e-11,\n",
              "        4.044943820224719e-11, ..., 0.0, 4.49438202247191e-12,\n",
              "        0.0002248314606741573],\n",
              "       [4.532584269662922e-09, 7.640449438202247e-11,\n",
              "        3.146067415730337e-11, ..., 0.0, 4.49438202247191e-12,\n",
              "        0.00017977528089887642],\n",
              "       [4.532584269662922e-09, 7.865168539325843e-11,\n",
              "        4.49438202247191e-12, ..., 0.0, 4.49438202247191e-12,\n",
              "        0.00016853932584269662],\n",
              "       ...,\n",
              "       [4.519101123595505e-09, 6.539325842696629e-10,\n",
              "        8.98876404494382e-12, ..., 0.0, 4.49438202247191e-12,\n",
              "        0.00011693587640449438],\n",
              "       [4.519101123595505e-09, 8.022471910112359e-10,\n",
              "        2.696629213483146e-11, ..., 0.0, 6.741573033707865e-12,\n",
              "        0.0010709336179775281],\n",
              "       [4.519101123595505e-09, 7.617977528089887e-10,\n",
              "        4.49438202247191e-12, ..., 0.0, 4.49438202247191e-12,\n",
              "        0.0001251569797752809]], dtype=object)"
            ]
          },
          "metadata": {}
        }
      ]
    },
    {
      "cell_type": "code",
      "source": [
        "num_particoes = 10\n",
        "kfold = KFold(n_splits=num_particoes, shuffle=True, random_state=7)\n",
        "np.random.seed(7)\n",
        "models = []\n",
        "results = []\n",
        "names = []\n",
        "models.append(('KNN', KNeighborsClassifier()))\n",
        "models.append(('CART', DecisionTreeClassifier()))\n",
        "models.append(('NB', GaussianNB()))\n",
        "models.append(('SVM', SVC()))\n",
        "\n",
        "\n",
        "for name, model in models:\n",
        "  cv_results = cross_val_score(model, X_norm_train, y_train, cv=kfold, scoring='accuracy')\n",
        "  results.append(cv_results)\n",
        "  names.append(name)\n",
        "  msg = \"%s: %f (%f)\" % (name, cv_results.mean(), cv_results.std()) # média e desvio padrão dos 10 resultados da validação cruzada\n",
        "  print(msg)\n",
        "\n",
        "# Boxplot de comparação dos modelos\n",
        "fig = plt.figure()\n",
        "fig.suptitle('Comparação da Acurácia dos Modelos')\n",
        "ax = fig.add_subplot(111)\n",
        "plt.boxplot(results)\n",
        "ax.set_xticklabels(names)\n",
        "plt.show()\n",
        "\n"
      ],
      "metadata": {
        "colab": {
          "base_uri": "https://localhost:8080/",
          "height": 547
        },
        "id": "GrLvD4Utsh5z",
        "outputId": "f879ded7-9c87-4f17-ccd9-8e6f3a18d38e"
      },
      "execution_count": 5,
      "outputs": [
        {
          "output_type": "stream",
          "name": "stdout",
          "text": [
            "KNN: 0.614655 (0.024502)\n",
            "CART: 0.579013 (0.024573)\n",
            "NB: 0.363403 (0.014396)\n",
            "SVM: 0.290626 (0.027854)\n"
          ]
        },
        {
          "output_type": "display_data",
          "data": {
            "text/plain": [
              "<Figure size 640x480 with 1 Axes>"
            ],
            "image/png": "[encoded data removed]"
          },
          "metadata": {}
        }
      ]
    },
    {
      "cell_type": "code",
      "source": [
        "model = KNeighborsClassifier()\n",
        "model.fit(X_norm_train, y_train)\n",
        "predictions = model.predict(X_norm_test)\n",
        "print(accuracy_score(y_test, predictions))"
      ],
      "metadata": {
        "colab": {
          "base_uri": "https://localhost:8080/"
        },
        "id": "G2a323eUtk9t",
        "outputId": "f2d8b920-4746-4ed5-d044-0e495e4cdcb3"
      },
      "execution_count": 6,
      "outputs": [
        {
          "output_type": "stream",
          "name": "stdout",
          "text": [
            "0.6454183266932271\n"
          ]
        }
      ]
    }
  ]
}