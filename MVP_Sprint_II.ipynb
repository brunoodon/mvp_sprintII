{
  "nbformat": 4,
  "nbformat_minor": 0,
  "metadata": {
    "colab": {
      "provenance": [],
      "authorship_tag": "ABX9TyP+Q+Ee5VcA0yY7rLhXmq/0",
      "include_colab_link": true
    },
    "kernelspec": {
      "name": "python3",
      "display_name": "Python 3"
    },
    "language_info": {
      "name": "python"
    }
  },
  "cells": [
    {
      "cell_type": "markdown",
      "metadata": {
        "id": "view-in-github",
        "colab_type": "text"
      },
      "source": [
        "<a href=\"https://colab.research.google.com/github/brunoodon/mvp_sprintII/blob/main/MVP_Sprint_II.ipynb\" target=\"_parent\"><img src=\"https://colab.research.google.com/assets/colab-badge.svg\" alt=\"Open In Colab\"/></a>"
      ]
    },
    {
      "cell_type": "code",
      "execution_count": null,
      "metadata": {
        "id": "nwqiwAqvsHTv"
      },
      "outputs": [],
      "source": []
    },
    {
      "cell_type": "code",
      "source": [
        "import pandas as pd\n",
        "import warnings\n",
        "warnings.filterwarnings(\"ignore\")\n",
        "import numpy as np\n",
        "import csv\n",
        "import matplotlib.pyplot as plt\n",
        "from sklearn.model_selection import train_test_split\n",
        "from sklearn.model_selection import KFold\n",
        "from sklearn.model_selection import cross_val_score\n",
        "from sklearn.metrics import accuracy_score\n",
        "from sklearn.neighbors import KNeighborsClassifier\n",
        "from sklearn.tree import DecisionTreeClassifier\n",
        "from sklearn.naive_bayes import GaussianNB\n",
        "from sklearn.svm import SVC\n",
        "url_adult = 'https://raw.githubusercontent.com/brunoodon/mvp_sprintII/main/adult_usa.data'\n",
        "dataset = pd.read_csv(url_adult)\n",
        "array = dataset.values\n",
        "X = array[:,[0,2,4,10,11,12]]\n",
        "#padronizando os dados numéricos:\n",
        "avg = np.mean(X)\n",
        "std = np.std(X)\n",
        "X_std = (X - std) / std\n",
        "#normalizando os dados, pois muitos deram números negativos:\n",
        "max = np.max(X_std)\n",
        "min = np.min(X_std)\n",
        "X_norm = (X_std - min) / (max - min)\n",
        "y = array[:,1]\n",
        "X_norm_train, X_norm_test, y_train, y_test, = train_test_split(X_norm, y, test_size=0.20, random_state=7)\n",
        "display(X_norm)\n",
        "#dataset.head(50)"
      ],
      "metadata": {
        "colab": {
          "base_uri": "https://localhost:8080/",
          "height": 273
        },
        "id": "pIGYeHyF0MrO",
        "outputId": "e89be987-a9f8-4cca-9e2e-6f5d3f97d3a3"
      },
      "execution_count": 2,
      "outputs": [
        {
          "output_type": "display_data",
          "data": {
            "text/plain": [
              "array([[2.6267844453948785e-05, 0.052209698222879304,\n",
              "        8.755948151318324e-06, 0.0014642639446893506, 0.0,\n",
              "        2.6941378927125688e-05],\n",
              "       [3.367672365890711e-05, 0.056112830494946815,\n",
              "        8.755948151318324e-06, 0.0, 0.0, 8.755948151318324e-06],\n",
              "       [2.5594309980771882e-05, 0.1452450150029804,\n",
              "        6.061810258604518e-06, 0.0, 0.0, 2.6941378927125688e-05],\n",
              "       ...,\n",
              "       [3.9064999444334724e-05, 0.10231662182049635,\n",
              "        6.061810258604518e-06, 0.0, 0.0, 2.6941378927125688e-05],\n",
              "       [1.4817758409922844e-05, 0.1357104610006702,\n",
              "        6.061810258604518e-06, 0.0, 0.0, 1.3470689463562844e-05],\n",
              "       [3.502379260526711e-05, 0.193928760258772, 6.061810258604518e-06,\n",
              "        0.01011918192502888, 0.0, 2.6941378927125688e-05]], dtype=object)"
            ]
          },
          "metadata": {}
        }
      ]
    },
    {
      "cell_type": "markdown",
      "source": [
        "Aplicando problemas de Classificação com outros datasets"
      ],
      "metadata": {
        "id": "FMKTnufGsLO7"
      }
    },
    {
      "cell_type": "code",
      "source": [
        "num_particoes = 10\n",
        "kfold = KFold(n_splits=num_particoes, shuffle=True, random_state=7)\n",
        "np.random.seed(7)\n",
        "models = []\n",
        "results = []\n",
        "names = []\n",
        "models.append(('KNN', KNeighborsClassifier()))\n",
        "models.append(('CART', DecisionTreeClassifier()))\n",
        "models.append(('NB', GaussianNB()))\n",
        "models.append(('SVM', SVC()))\n",
        "for name, model in models:\n",
        "  cv_results = cross_val_score(model, X_norm_train, y_train, cv=kfold, scoring='accuracy')\n",
        "  results.append(cv_results)\n",
        "  names.append(name)\n",
        "  msg = \"%s: %f (%f)\" % (name, cv_results.mean(), cv_results.std()) # média e desvio padrão dos 10 resultados da validação cruzada\n",
        "  print(msg)\n",
        "\n",
        "# Boxplot de comparação dos modelos\n",
        "fig = plt.figure()\n",
        "fig.suptitle('Comparação da Acurácia dos Modelos')\n",
        "ax = fig.add_subplot(111)\n",
        "plt.boxplot(results)\n",
        "ax.set_xticklabels(names)\n",
        "plt.show()\n",
        "\n"
      ],
      "metadata": {
        "colab": {
          "base_uri": "https://localhost:8080/",
          "height": 551
        },
        "id": "GrLvD4Utsh5z",
        "outputId": "e0f29092-0aad-40bf-b9c6-3e04141f3b0f"
      },
      "execution_count": 3,
      "outputs": [
        {
          "output_type": "stream",
          "name": "stdout",
          "text": [
            "KNN: 0.660818 (0.013181)\n",
            "CART: 0.528984 (0.008797)\n",
            "NB: 0.405212 (0.039407)\n",
            "SVM: 0.697788 (0.011574)\n"
          ]
        },
        {
          "output_type": "display_data",
          "data": {
            "text/plain": [
              "<Figure size 640x480 with 1 Axes>"
            ],
            "image/png": "[encoded data removed]"
          },
          "metadata": {}
        }
      ]
    }
  ]
}