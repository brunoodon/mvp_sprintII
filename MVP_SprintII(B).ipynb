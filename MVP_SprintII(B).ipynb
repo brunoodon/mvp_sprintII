{
  "nbformat": 4,
  "nbformat_minor": 0,
  "metadata": {
    "colab": {
      "provenance": [],
      "authorship_tag": "ABX9TyMnRaHFBVGn1McOhSGBHeKz",
      "include_colab_link": true
    },
    "kernelspec": {
      "name": "python3",
      "display_name": "Python 3"
    },
    "language_info": {
      "name": "python"
    }
  },
  "cells": [
    {
      "cell_type": "markdown",
      "metadata": {
        "id": "view-in-github",
        "colab_type": "text"
      },
      "source": [
        "<a href=\"https://colab.research.google.com/github/brunoodon/mvp_sprintII/blob/main/MVP_SprintII(B).ipynb\" target=\"_parent\"><img src=\"https://colab.research.google.com/assets/colab-badge.svg\" alt=\"Open In Colab\"/></a>"
      ]
    },
    {
      "cell_type": "markdown",
      "source": [
        "# MVP - Machine Learning & Analytics - Sprint II(B)\n",
        "### Bruno Odon\n",
        "\n",
        "## Descrição do problema"
      ],
      "metadata": {
        "id": "YGGMNeC0_pDh"
      }
    },
    {
      "cell_type": "markdown",
      "source": [
        "Instalando as bibliotecas TensorFlow e Keras"
      ],
      "metadata": {
        "id": "ZOLSS9uihS2v"
      }
    },
    {
      "cell_type": "code",
      "source": [
        "!pip install tensorflow\n",
        "!pip install keras"
      ],
      "metadata": {
        "colab": {
          "base_uri": "https://localhost:8080/"
        },
        "id": "FJ8EOlz4_w_B",
        "outputId": "e9b51f46-f462-40b1-86b5-9cc9f39799a8"
      },
      "execution_count": 52,
      "outputs": [
        {
          "output_type": "stream",
          "name": "stdout",
          "text": [
            "Requirement already satisfied: tensorflow in /usr/local/lib/python3.10/dist-packages (2.12.0)\n",
            "Requirement already satisfied: absl-py>=1.0.0 in /usr/local/lib/python3.10/dist-packages (from tensorflow) (1.4.0)\n",
            "Requirement already satisfied: astunparse>=1.6.0 in /usr/local/lib/python3.10/dist-packages (from tensorflow) (1.6.3)\n",
            "Requirement already satisfied: flatbuffers>=2.0 in /usr/local/lib/python3.10/dist-packages (from tensorflow) (23.5.26)\n",
            "Requirement already satisfied: gast<=0.4.0,>=0.2.1 in /usr/local/lib/python3.10/dist-packages (from tensorflow) (0.4.0)\n",
            "Requirement already satisfied: google-pasta>=0.1.1 in /usr/local/lib/python3.10/dist-packages (from tensorflow) (0.2.0)\n",
            "Requirement already satisfied: grpcio<2.0,>=1.24.3 in /usr/local/lib/python3.10/dist-packages (from tensorflow) (1.56.0)\n",
            "Requirement already satisfied: h5py>=2.9.0 in /usr/local/lib/python3.10/dist-packages (from tensorflow) (3.8.0)\n",
            "Requirement already satisfied: jax>=0.3.15 in /usr/local/lib/python3.10/dist-packages (from tensorflow) (0.4.13)\n",
            "Requirement already satisfied: keras<2.13,>=2.12.0 in /usr/local/lib/python3.10/dist-packages (from tensorflow) (2.12.0)\n",
            "Requirement already satisfied: libclang>=13.0.0 in /usr/local/lib/python3.10/dist-packages (from tensorflow) (16.0.0)\n",
            "Requirement already satisfied: numpy<1.24,>=1.22 in /usr/local/lib/python3.10/dist-packages (from tensorflow) (1.22.4)\n",
            "Requirement already satisfied: opt-einsum>=2.3.2 in /usr/local/lib/python3.10/dist-packages (from tensorflow) (3.3.0)\n",
            "Requirement already satisfied: packaging in /usr/local/lib/python3.10/dist-packages (from tensorflow) (23.1)\n",
            "Requirement already satisfied: protobuf!=4.21.0,!=4.21.1,!=4.21.2,!=4.21.3,!=4.21.4,!=4.21.5,<5.0.0dev,>=3.20.3 in /usr/local/lib/python3.10/dist-packages (from tensorflow) (3.20.3)\n",
            "Requirement already satisfied: setuptools in /usr/local/lib/python3.10/dist-packages (from tensorflow) (67.7.2)\n",
            "Requirement already satisfied: six>=1.12.0 in /usr/local/lib/python3.10/dist-packages (from tensorflow) (1.16.0)\n",
            "Requirement already satisfied: tensorboard<2.13,>=2.12 in /usr/local/lib/python3.10/dist-packages (from tensorflow) (2.12.3)\n",
            "Requirement already satisfied: tensorflow-estimator<2.13,>=2.12.0 in /usr/local/lib/python3.10/dist-packages (from tensorflow) (2.12.0)\n",
            "Requirement already satisfied: termcolor>=1.1.0 in /usr/local/lib/python3.10/dist-packages (from tensorflow) (2.3.0)\n",
            "Requirement already satisfied: typing-extensions>=3.6.6 in /usr/local/lib/python3.10/dist-packages (from tensorflow) (4.7.1)\n",
            "Requirement already satisfied: wrapt<1.15,>=1.11.0 in /usr/local/lib/python3.10/dist-packages (from tensorflow) (1.14.1)\n",
            "Requirement already satisfied: tensorflow-io-gcs-filesystem>=0.23.1 in /usr/local/lib/python3.10/dist-packages (from tensorflow) (0.32.0)\n",
            "Requirement already satisfied: wheel<1.0,>=0.23.0 in /usr/local/lib/python3.10/dist-packages (from astunparse>=1.6.0->tensorflow) (0.40.0)\n",
            "Requirement already satisfied: ml-dtypes>=0.1.0 in /usr/local/lib/python3.10/dist-packages (from jax>=0.3.15->tensorflow) (0.2.0)\n",
            "Requirement already satisfied: scipy>=1.7 in /usr/local/lib/python3.10/dist-packages (from jax>=0.3.15->tensorflow) (1.10.1)\n",
            "Requirement already satisfied: google-auth<3,>=1.6.3 in /usr/local/lib/python3.10/dist-packages (from tensorboard<2.13,>=2.12->tensorflow) (2.17.3)\n",
            "Requirement already satisfied: google-auth-oauthlib<1.1,>=0.5 in /usr/local/lib/python3.10/dist-packages (from tensorboard<2.13,>=2.12->tensorflow) (1.0.0)\n",
            "Requirement already satisfied: markdown>=2.6.8 in /usr/local/lib/python3.10/dist-packages (from tensorboard<2.13,>=2.12->tensorflow) (3.4.3)\n",
            "Requirement already satisfied: requests<3,>=2.21.0 in /usr/local/lib/python3.10/dist-packages (from tensorboard<2.13,>=2.12->tensorflow) (2.27.1)\n",
            "Requirement already satisfied: tensorboard-data-server<0.8.0,>=0.7.0 in /usr/local/lib/python3.10/dist-packages (from tensorboard<2.13,>=2.12->tensorflow) (0.7.1)\n",
            "Requirement already satisfied: werkzeug>=1.0.1 in /usr/local/lib/python3.10/dist-packages (from tensorboard<2.13,>=2.12->tensorflow) (2.3.6)\n",
            "Requirement already satisfied: cachetools<6.0,>=2.0.0 in /usr/local/lib/python3.10/dist-packages (from google-auth<3,>=1.6.3->tensorboard<2.13,>=2.12->tensorflow) (5.3.1)\n",
            "Requirement already satisfied: pyasn1-modules>=0.2.1 in /usr/local/lib/python3.10/dist-packages (from google-auth<3,>=1.6.3->tensorboard<2.13,>=2.12->tensorflow) (0.3.0)\n",
            "Requirement already satisfied: rsa<5,>=3.1.4 in /usr/local/lib/python3.10/dist-packages (from google-auth<3,>=1.6.3->tensorboard<2.13,>=2.12->tensorflow) (4.9)\n",
            "Requirement already satisfied: requests-oauthlib>=0.7.0 in /usr/local/lib/python3.10/dist-packages (from google-auth-oauthlib<1.1,>=0.5->tensorboard<2.13,>=2.12->tensorflow) (1.3.1)\n",
            "Requirement already satisfied: urllib3<1.27,>=1.21.1 in /usr/local/lib/python3.10/dist-packages (from requests<3,>=2.21.0->tensorboard<2.13,>=2.12->tensorflow) (1.26.16)\n",
            "Requirement already satisfied: certifi>=2017.4.17 in /usr/local/lib/python3.10/dist-packages (from requests<3,>=2.21.0->tensorboard<2.13,>=2.12->tensorflow) (2023.5.7)\n",
            "Requirement already satisfied: charset-normalizer~=2.0.0 in /usr/local/lib/python3.10/dist-packages (from requests<3,>=2.21.0->tensorboard<2.13,>=2.12->tensorflow) (2.0.12)\n",
            "Requirement already satisfied: idna<4,>=2.5 in /usr/local/lib/python3.10/dist-packages (from requests<3,>=2.21.0->tensorboard<2.13,>=2.12->tensorflow) (3.4)\n",
            "Requirement already satisfied: MarkupSafe>=2.1.1 in /usr/local/lib/python3.10/dist-packages (from werkzeug>=1.0.1->tensorboard<2.13,>=2.12->tensorflow) (2.1.3)\n",
            "Requirement already satisfied: pyasn1<0.6.0,>=0.4.6 in /usr/local/lib/python3.10/dist-packages (from pyasn1-modules>=0.2.1->google-auth<3,>=1.6.3->tensorboard<2.13,>=2.12->tensorflow) (0.5.0)\n",
            "Requirement already satisfied: oauthlib>=3.0.0 in /usr/local/lib/python3.10/dist-packages (from requests-oauthlib>=0.7.0->google-auth-oauthlib<1.1,>=0.5->tensorboard<2.13,>=2.12->tensorflow) (3.2.2)\n",
            "Requirement already satisfied: keras in /usr/local/lib/python3.10/dist-packages (2.12.0)\n"
          ]
        }
      ]
    },
    {
      "cell_type": "code",
      "source": [
        "from keras.preprocessing.image import ImageDataGenerator\n",
        "from keras import layers\n",
        "from keras import models\n",
        "from keras import optimizers\n",
        "from tensorflow.keras.preprocessing import image\n",
        "import os\n",
        "from sklearn.model_selection import train_test_split\n",
        "import shutil\n",
        "import random\n",
        "import math\n",
        "import numpy as np\n",
        "import zipfile\n",
        "import pandas as pd\n",
        "import matplotlib.image as mpimg\n",
        "import matplotlib.pyplot as plt\n",
        "import matplotlib.image as mpimg\n",
        "from datetime import datetime\n",
        "from tensorflow import keras\n",
        "from sklearn.metrics import confusion_matrix, classification_report\n",
        "import sklearn.metrics as skm\n",
        "import itertools\n",
        "import numpy as np\n",
        "import matplotlib.pyplot as plt"
      ],
      "metadata": {
        "id": "VlizTKOhhx4S"
      },
      "execution_count": 4,
      "outputs": []
    },
    {
      "cell_type": "code",
      "source": [
        "def plot_confusion_matrix(cm, classes,\n",
        "                          normalize=False,\n",
        "                          title='Confusion matrix',\n",
        "                          cmap=plt.cm.Blues):\n",
        "    \"\"\"\n",
        "    Esta função imprime e plota a matriz de confusão.\n",
        "    A normalização pode ser aplicada definindo `normalize=True`.\n",
        "    \"\"\"\n",
        "    if normalize:\n",
        "        cm = cm.astype('float') / cm.sum(axis=1)[:, np.newaxis]\n",
        "        print(\"Matriz de confusão normalizada\")\n",
        "    else:\n",
        "        print('Matriz de confusão sem normalização')\n",
        "\n",
        "    plt.imshow(cm, interpolation='nearest', cmap=cmap)\n",
        "    plt.title(title)\n",
        "    plt.colorbar()\n",
        "    tick_marks = np.arange(len(classes))\n",
        "    plt.xticks(tick_marks, classes, rotation=45)\n",
        "    plt.yticks(tick_marks, classes)\n",
        "\n",
        "    fmt = '.2f' if normalize else 'd'\n",
        "    thresh = cm.max() / 2.\n",
        "    for i, j in itertools.product(range(cm.shape[0]), range(cm.shape[1])):\n",
        "        plt.text(j, i, format(cm[i, j], fmt),\n",
        "                 horizontalalignment=\"center\",\n",
        "                 color=\"white\" if cm[i, j] > thresh else \"black\")\n",
        "\n",
        "    plt.tight_layout()\n",
        "    plt.ylabel('Label real')\n",
        "    plt.xlabel('Label predito')"
      ],
      "metadata": {
        "id": "aMpiVu4tiDVH"
      },
      "execution_count": 5,
      "outputs": []
    },
    {
      "cell_type": "code",
      "source": [
        "!mkdir -pv datasets/music\n",
        "!wget 'https://raw.githubusercontent.com/brunoodon/mvp_sprintII/main/music.zip' -P datasets/"
      ],
      "metadata": {
        "colab": {
          "base_uri": "https://localhost:8080/"
        },
        "id": "OkU4MEmKijAP",
        "outputId": "c03c04d2-c76a-479c-dfb2-79e2a875a62e"
      },
      "execution_count": 67,
      "outputs": [
        {
          "output_type": "stream",
          "name": "stdout",
          "text": [
            "--2023-07-19 03:17:35--  https://raw.githubusercontent.com/brunoodon/mvp_sprintII/main/music.zip\n",
            "Resolving raw.githubusercontent.com (raw.githubusercontent.com)... 185.199.108.133, 185.199.109.133, 185.199.110.133, ...\n",
            "Connecting to raw.githubusercontent.com (raw.githubusercontent.com)|185.199.108.133|:443... connected.\n",
            "HTTP request sent, awaiting response... 200 OK\n",
            "Length: 10632185 (10M) [application/zip]\n",
            "Saving to: ‘datasets/music.zip’\n",
            "\n",
            "\rmusic.zip             0%[                    ]       0  --.-KB/s               \rmusic.zip           100%[===================>]  10.14M  --.-KB/s    in 0.03s   \n",
            "\n",
            "2023-07-19 03:17:35 (300 MB/s) - ‘datasets/music.zip’ saved [10632185/10632185]\n",
            "\n"
          ]
        }
      ]
    },
    {
      "cell_type": "markdown",
      "source": [],
      "metadata": {
        "id": "WWH6HO3dc-N5"
      }
    },
    {
      "cell_type": "code",
      "source": [
        "import zipfile\n",
        "dataset = 'datasets/music.zip'\n",
        "dest = 'datasets/music/'\n",
        "with zipfile.ZipFile(dataset,'r') as zip_ref:\n",
        "  zip_ref.extractall(dest)"
      ],
      "metadata": {
        "id": "C4OTMOb6iNWn"
      },
      "execution_count": 69,
      "outputs": []
    },
    {
      "cell_type": "code",
      "source": [
        "#verificando o número de imagens que foram extraídas\n",
        "path='datasets/music/'\n",
        "print(f\"Temos um total de {len(os.listdir(path))} imagens em nosso dataset\")\n",
        "\n",
        "#exemplos de algumas imagens extraídas\n",
        "print(f\"Primeiras 20 imagens: \\n {os.listdir(path)[:20]}\")\n"
      ],
      "metadata": {
        "colab": {
          "base_uri": "https://localhost:8080/"
        },
        "id": "xBueJnmaTHjJ",
        "outputId": "c956b3a0-cd41-441e-b386-cc7d6a05a0a9"
      },
      "execution_count": 71,
      "outputs": [
        {
          "output_type": "stream",
          "name": "stdout",
          "text": [
            "Temos um total de 2598 imagens em nosso dataset\n",
            "Primeiras 20 imagens: \n",
            " ['1634117704444_Mixer mackie for sale.jpg', '1634117899869_yamaha psr2000 for sale.jpg', '1634110111179_Box Guitar Diviser for sale.jpg', '1634110346646_MAX Professional 4 Channel USB Interface  Mixer with Mobile Output for sale.jpg', '1634111875815_YAMAHA PSR  125 Electric Keyboard for sale.jpg', '1634112047058_PV SP2G TOPS speakers for sale.jpg', '1634118001110_5 String Bass Guitar for sale.jpg', '1634110942392_Piano Center Kohuwala for sale.jpg', '1634110701497_Guitargfx8 Paddle for sale.jpg', '1634113404318_Bc Original Speakers for sale.jpg', '1634117840230_Yamaha Acoustic Drum for sale.jpg', '1634118004234_Suzuki Semi Acoustic Guitars  Box for sale.jpg', '1634111149872_Yamaha Psr S700 for sale.jpg', '1634111518613_Crown Amp for sale.jpg', '1634110840753_Epiphone EJ200CE 42 Jumbo Acoustic Solid Wood Guitar for sale.jpg', '1634110987384_Yamaha SY77 Music Synthesizer for sale.jpg', '1634110230870_Electric Guitar for sale.jpg', '1634117676023_Arabic Darbuka for sale.jpg', '1634112553615_Yamaha PSR E333 Keyboard for sale.jpg', '1634117965844_behringer 24 channel mixer for sale.jpg']\n"
          ]
        }
      ]
    },
    {
      "cell_type": "code",
      "source": [
        "from sklearn.preprocessing import FunctionTransformer\n",
        "import re\n",
        "#Criando um DataFrame com as informações das imagens\n",
        "\n",
        "images = os.listdir(path)\n",
        "labels, heights, widths, channels, filesize, files = [], [], [], [], [], []\n",
        "\n",
        "# Loop que percorre cada uma das imagens extraídas\n",
        "for fname in images:\n",
        "    try:\n",
        "      inst_type = str(fname)[14:].replace('.jpg', '').replace('for sale', '')\n",
        "      if \"Accoustic Guitar\" in inst_type:\n",
        "        name = \"Accoustic Guitar\"\n",
        "        files.append(fname)\n",
        "        labels.append(name)\n",
        "      if (\"Guitar\" or \"Guitar\" or \"Guitars\" or \"GUITAR\" or \"guitar\") in inst_type:\n",
        "        name = \"Guitar\"\n",
        "        files.append(fname)\n",
        "        labels.append(name)\n",
        "      if \"Piano\" in inst_type:\n",
        "        name = \"Piano\"\n",
        "        files.append(fname)\n",
        "        labels.append(name)\n",
        "      if \"Keyboard\" in inst_type:\n",
        "        name = \"Keyboard\"\n",
        "        files.append(fname)\n",
        "        labels.append(name)\n",
        "      if \"Speaker\" in inst_type:\n",
        "        name = \"Speaker\"\n",
        "        files.append(fname)\n",
        "        labels.append(name)\n",
        "      if (\"Mic\" or \"Micophone\") in inst_type:\n",
        "        name = \"Microphone\"\n",
        "        files.append(fname)\n",
        "        labels.append(name)\n",
        "      if (\"Bass Guitar\" or \"Bass\") in inst_type:\n",
        "        name = \"Bass Guitar\"\n",
        "        files.append(fname)\n",
        "        labels.append(name)\n",
        "      if \"Violin\" in inst_type:\n",
        "        name = \"Violin\"\n",
        "        files.append(fname)\n",
        "        labels.append(name)\n",
        "      if (\"DRUM\" or \"Drum\" or \"Drums\" or \"DRUMS\") in inst_type:\n",
        "        name = \"Drums\"\n",
        "        files.append(fname)\n",
        "        labels.append(name)\n",
        "      if name != '':\n",
        "        img_shape = mpimg.imread(path+fname).shape\n",
        "        heights.append(img_shape[0])\n",
        "        widths.append(img_shape[1])\n",
        "        channels.append(img_shape[2])\n",
        "        filesize.append(os.path.getsize(path+fname))\n",
        "    except:\n",
        "      print('Não foi possível')\n",
        "\n",
        "#df = pd.DataFrame({'images': files, 'class': labels, 'height': heights, 'width': widths, 'channels': channels, 'filesize': filesize})\n",
        "df = pd.DataFrame({'images': files, 'class': labels})\n",
        "df.tail(100)\n",
        "# Criação do dataset\n"
      ],
      "metadata": {
        "id": "O7XVR5cljDJf",
        "outputId": "ca8c0191-397f-4493-ed01-54af799ea4eb",
        "colab": {
          "base_uri": "https://localhost:8080/",
          "height": 458
        }
      },
      "execution_count": 72,
      "outputs": [
        {
          "output_type": "stream",
          "name": "stdout",
          "text": [
            "Não foi possível\n",
            "Não foi possível\n"
          ]
        },
        {
          "output_type": "execute_result",
          "data": {
            "text/plain": [
              "                                                 images       class\n",
              "1098         1634117405100_Electric Guitar for sale.jpg      Guitar\n",
              "1099                  1634117400096_Guitar for sale.jpg      Guitar\n",
              "1100  1634113406849_Fender CD60 NAT DS V2 Guitar for...      Guitar\n",
              "1101  1634112912596_Japanese Semi Acoustic Guitar  f...      Guitar\n",
              "1102  1634113467647_Shure SM58 Original Mic for sale...  Microphone\n",
              "...                                                 ...         ...\n",
              "1193    1634117553841_Semiacoustick Guitar for sale.jpg      Guitar\n",
              "1194  1634110420848_Amplifier with Speakers for sale...     Speaker\n",
              "1195             1634110992301_Tik Tok Mic for sale.jpg  Microphone\n",
              "1196  1634112350643_Shure SM7B  Cardioid Dynamic Voc...  Microphone\n",
              "1197  1634110511858_Ibanez Rg Series Lead Guitar for...      Guitar\n",
              "\n",
              "[100 rows x 2 columns]"
            ],
            "text/html": [
              "\n",
              "\n",
              "  <div id=\"df-0e5205ca-4efc-4806-b513-a6beef5bd089\">\n",
              "    <div class=\"colab-df-container\">\n",
              "      <div>\n",
              "<style scoped>\n",
              "    .dataframe tbody tr th:only-of-type {\n",
              "        vertical-align: middle;\n",
              "    }\n",
              "\n",
              "    .dataframe tbody tr th {\n",
              "        vertical-align: top;\n",
              "    }\n",
              "\n",
              "    .dataframe thead th {\n",
              "        text-align: right;\n",
              "    }\n",
              "</style>\n",
              "<table border=\"1\" class=\"dataframe\">\n",
              "  <thead>\n",
              "    <tr style=\"text-align: right;\">\n",
              "      <th></th>\n",
              "      <th>images</th>\n",
              "      <th>class</th>\n",
              "    </tr>\n",
              "  </thead>\n",
              "  <tbody>\n",
              "    <tr>\n",
              "      <th>1098</th>\n",
              "      <td>1634117405100_Electric Guitar for sale.jpg</td>\n",
              "      <td>Guitar</td>\n",
              "    </tr>\n",
              "    <tr>\n",
              "      <th>1099</th>\n",
              "      <td>1634117400096_Guitar for sale.jpg</td>\n",
              "      <td>Guitar</td>\n",
              "    </tr>\n",
              "    <tr>\n",
              "      <th>1100</th>\n",
              "      <td>1634113406849_Fender CD60 NAT DS V2 Guitar for...</td>\n",
              "      <td>Guitar</td>\n",
              "    </tr>\n",
              "    <tr>\n",
              "      <th>1101</th>\n",
              "      <td>1634112912596_Japanese Semi Acoustic Guitar  f...</td>\n",
              "      <td>Guitar</td>\n",
              "    </tr>\n",
              "    <tr>\n",
              "      <th>1102</th>\n",
              "      <td>1634113467647_Shure SM58 Original Mic for sale...</td>\n",
              "      <td>Microphone</td>\n",
              "    </tr>\n",
              "    <tr>\n",
              "      <th>...</th>\n",
              "      <td>...</td>\n",
              "      <td>...</td>\n",
              "    </tr>\n",
              "    <tr>\n",
              "      <th>1193</th>\n",
              "      <td>1634117553841_Semiacoustick Guitar for sale.jpg</td>\n",
              "      <td>Guitar</td>\n",
              "    </tr>\n",
              "    <tr>\n",
              "      <th>1194</th>\n",
              "      <td>1634110420848_Amplifier with Speakers for sale...</td>\n",
              "      <td>Speaker</td>\n",
              "    </tr>\n",
              "    <tr>\n",
              "      <th>1195</th>\n",
              "      <td>1634110992301_Tik Tok Mic for sale.jpg</td>\n",
              "      <td>Microphone</td>\n",
              "    </tr>\n",
              "    <tr>\n",
              "      <th>1196</th>\n",
              "      <td>1634112350643_Shure SM7B  Cardioid Dynamic Voc...</td>\n",
              "      <td>Microphone</td>\n",
              "    </tr>\n",
              "    <tr>\n",
              "      <th>1197</th>\n",
              "      <td>1634110511858_Ibanez Rg Series Lead Guitar for...</td>\n",
              "      <td>Guitar</td>\n",
              "    </tr>\n",
              "  </tbody>\n",
              "</table>\n",
              "<p>100 rows × 2 columns</p>\n",
              "</div>\n",
              "      <button class=\"colab-df-convert\" onclick=\"convertToInteractive('df-0e5205ca-4efc-4806-b513-a6beef5bd089')\"\n",
              "              title=\"Convert this dataframe to an interactive table.\"\n",
              "              style=\"display:none;\">\n",
              "\n",
              "  <svg xmlns=\"http://www.w3.org/2000/svg\" height=\"24px\"viewBox=\"0 0 24 24\"\n",
              "       width=\"24px\">\n",
              "    <path d=\"M0 0h24v24H0V0z\" fill=\"none\"/>\n",
              "    <path d=\"M18.56 5.44l.94 2.06.94-2.06 2.06-.94-2.06-.94-.94-2.06-.94 2.06-2.06.94zm-11 1L8.5 8.5l.94-2.06 2.06-.94-2.06-.94L8.5 2.5l-.94 2.06-2.06.94zm10 10l.94 2.06.94-2.06 2.06-.94-2.06-.94-.94-2.06-.94 2.06-2.06.94z\"/><path d=\"M17.41 7.96l-1.37-1.37c-.4-.4-.92-.59-1.43-.59-.52 0-1.04.2-1.43.59L10.3 9.45l-7.72 7.72c-.78.78-.78 2.05 0 2.83L4 21.41c.39.39.9.59 1.41.59.51 0 1.02-.2 1.41-.59l7.78-7.78 2.81-2.81c.8-.78.8-2.07 0-2.86zM5.41 20L4 18.59l7.72-7.72 1.47 1.35L5.41 20z\"/>\n",
              "  </svg>\n",
              "      </button>\n",
              "\n",
              "\n",
              "\n",
              "    <div id=\"df-9d03489f-a3dd-4355-ae9c-37ece2df6b59\">\n",
              "      <button class=\"colab-df-quickchart\" onclick=\"quickchart('df-9d03489f-a3dd-4355-ae9c-37ece2df6b59')\"\n",
              "              title=\"Suggest charts.\"\n",
              "              style=\"display:none;\">\n",
              "\n",
              "<svg xmlns=\"http://www.w3.org/2000/svg\" height=\"24px\"viewBox=\"0 0 24 24\"\n",
              "     width=\"24px\">\n",
              "    <g>\n",
              "        <path d=\"M19 3H5c-1.1 0-2 .9-2 2v14c0 1.1.9 2 2 2h14c1.1 0 2-.9 2-2V5c0-1.1-.9-2-2-2zM9 17H7v-7h2v7zm4 0h-2V7h2v10zm4 0h-2v-4h2v4z\"/>\n",
              "    </g>\n",
              "</svg>\n",
              "      </button>\n",
              "    </div>\n",
              "\n",
              "<style>\n",
              "  .colab-df-quickchart {\n",
              "    background-color: #E8F0FE;\n",
              "    border: none;\n",
              "    border-radius: 50%;\n",
              "    cursor: pointer;\n",
              "    display: none;\n",
              "    fill: #1967D2;\n",
              "    height: 32px;\n",
              "    padding: 0 0 0 0;\n",
              "    width: 32px;\n",
              "  }\n",
              "\n",
              "  .colab-df-quickchart:hover {\n",
              "    background-color: #E2EBFA;\n",
              "    box-shadow: 0px 1px 2px rgba(60, 64, 67, 0.3), 0px 1px 3px 1px rgba(60, 64, 67, 0.15);\n",
              "    fill: #174EA6;\n",
              "  }\n",
              "\n",
              "  [theme=dark] .colab-df-quickchart {\n",
              "    background-color: #3B4455;\n",
              "    fill: #D2E3FC;\n",
              "  }\n",
              "\n",
              "  [theme=dark] .colab-df-quickchart:hover {\n",
              "    background-color: #434B5C;\n",
              "    box-shadow: 0px 1px 3px 1px rgba(0, 0, 0, 0.15);\n",
              "    filter: drop-shadow(0px 1px 2px rgba(0, 0, 0, 0.3));\n",
              "    fill: #FFFFFF;\n",
              "  }\n",
              "</style>\n",
              "\n",
              "    <script>\n",
              "      async function quickchart(key) {\n",
              "        const containerElement = document.querySelector('#' + key);\n",
              "        const charts = await google.colab.kernel.invokeFunction(\n",
              "            'suggestCharts', [key], {});\n",
              "      }\n",
              "    </script>\n",
              "\n",
              "      <script>\n",
              "\n",
              "function displayQuickchartButton(domScope) {\n",
              "  let quickchartButtonEl =\n",
              "    domScope.querySelector('#df-9d03489f-a3dd-4355-ae9c-37ece2df6b59 button.colab-df-quickchart');\n",
              "  quickchartButtonEl.style.display =\n",
              "    google.colab.kernel.accessAllowed ? 'block' : 'none';\n",
              "}\n",
              "\n",
              "        displayQuickchartButton(document);\n",
              "      </script>\n",
              "      <style>\n",
              "    .colab-df-container {\n",
              "      display:flex;\n",
              "      flex-wrap:wrap;\n",
              "      gap: 12px;\n",
              "    }\n",
              "\n",
              "    .colab-df-convert {\n",
              "      background-color: #E8F0FE;\n",
              "      border: none;\n",
              "      border-radius: 50%;\n",
              "      cursor: pointer;\n",
              "      display: none;\n",
              "      fill: #1967D2;\n",
              "      height: 32px;\n",
              "      padding: 0 0 0 0;\n",
              "      width: 32px;\n",
              "    }\n",
              "\n",
              "    .colab-df-convert:hover {\n",
              "      background-color: #E2EBFA;\n",
              "      box-shadow: 0px 1px 2px rgba(60, 64, 67, 0.3), 0px 1px 3px 1px rgba(60, 64, 67, 0.15);\n",
              "      fill: #174EA6;\n",
              "    }\n",
              "\n",
              "    [theme=dark] .colab-df-convert {\n",
              "      background-color: #3B4455;\n",
              "      fill: #D2E3FC;\n",
              "    }\n",
              "\n",
              "    [theme=dark] .colab-df-convert:hover {\n",
              "      background-color: #434B5C;\n",
              "      box-shadow: 0px 1px 3px 1px rgba(0, 0, 0, 0.15);\n",
              "      filter: drop-shadow(0px 1px 2px rgba(0, 0, 0, 0.3));\n",
              "      fill: #FFFFFF;\n",
              "    }\n",
              "  </style>\n",
              "\n",
              "      <script>\n",
              "        const buttonEl =\n",
              "          document.querySelector('#df-0e5205ca-4efc-4806-b513-a6beef5bd089 button.colab-df-convert');\n",
              "        buttonEl.style.display =\n",
              "          google.colab.kernel.accessAllowed ? 'block' : 'none';\n",
              "\n",
              "        async function convertToInteractive(key) {\n",
              "          const element = document.querySelector('#df-0e5205ca-4efc-4806-b513-a6beef5bd089');\n",
              "          const dataTable =\n",
              "            await google.colab.kernel.invokeFunction('convertToInteractive',\n",
              "                                                     [key], {});\n",
              "          if (!dataTable) return;\n",
              "\n",
              "          const docLinkHtml = 'Like what you see? Visit the ' +\n",
              "            '<a target=\"_blank\" href=https://colab.research.google.com/notebooks/data_table.ipynb>data table notebook</a>'\n",
              "            + ' to learn more about interactive tables.';\n",
              "          element.innerHTML = '';\n",
              "          dataTable['output_type'] = 'display_data';\n",
              "          await google.colab.output.renderOutput(dataTable, element);\n",
              "          const docLink = document.createElement('div');\n",
              "          docLink.innerHTML = docLinkHtml;\n",
              "          element.appendChild(docLink);\n",
              "        }\n",
              "      </script>\n",
              "    </div>\n",
              "  </div>\n"
            ]
          },
          "metadata": {},
          "execution_count": 72
        }
      ]
    },
    {
      "cell_type": "code",
      "source": [
        "#Visualizando a proporção de imagens por classe\n",
        "print((df['class']).value_counts())\n",
        "instruments_count = df['class'].value_counts().plot.bar(title='Instrumentos musicais - dados disponíveis')"
      ],
      "metadata": {
        "colab": {
          "base_uri": "https://localhost:8080/",
          "height": 726
        },
        "id": "UgyeuuiCWcmA",
        "outputId": "c453293a-128e-4afe-f5c2-91af7e0b6fe6"
      },
      "execution_count": 73,
      "outputs": [
        {
          "output_type": "stream",
          "name": "stdout",
          "text": [
            "Guitar              543\n",
            "Speaker             174\n",
            "Microphone          172\n",
            "Keyboard            113\n",
            "Piano                87\n",
            "Violin               52\n",
            "Bass Guitar          49\n",
            "Drums                 5\n",
            "Accoustic Guitar      3\n",
            "Name: class, dtype: int64\n"
          ]
        },
        {
          "output_type": "display_data",
          "data": {
            "text/plain": [
              "<Figure size 640x480 with 1 Axes>"
            ],
            "image/png": "[encoded data removed]"
          },
          "metadata": {}
        }
      ]
    },
    {
      "cell_type": "code",
      "source": [
        "#Visualizando algumas imagens do conjunto de dados\n",
        "import random\n",
        "import matplotlib.pyplot as plt\n",
        "from PIL import Image\n",
        "num_img = 10\n",
        "for i, row in df.head(num_img).iterrows():\n",
        "    classe = row['class']\n",
        "    img_name = row['images']\n",
        "    img_path = os.path.join(path, img_name)\n",
        "    img = Image.open(img_path)\n",
        "    plt.imshow(img, extent=[0, 50, 0, 50])\n",
        "    plt.title(f\"Classe: {classe}\")\n",
        "    plt.axis(\"off\")\n",
        "    plt.show()"
      ],
      "metadata": {
        "id": "a_9RevsG47oR"
      },
      "execution_count": null,
      "outputs": []
    },
    {
      "cell_type": "code",
      "source": [
        "#Dividindo o dataset em 70% para treino e 30% para teste\n",
        "train, test = train_test_split(df[['images', 'class']], test_size=0.3, random_state=42, shuffle=True)\n",
        "#visualizando a divisão dos dados:\n",
        "print(\"CONJUNTO DE TREINO\")\n",
        "print(train)\n",
        "print(\"CONJUNTO DE TESTE\")\n",
        "print(test)"
      ],
      "metadata": {
        "colab": {
          "base_uri": "https://localhost:8080/"
        },
        "id": "bHYSNf08PNNf",
        "outputId": "beec08c4-dbf6-4174-c2c4-bcfe1eb2be3e"
      },
      "execution_count": 89,
      "outputs": [
        {
          "output_type": "stream",
          "name": "stdout",
          "text": [
            "CONJUNTO DE TREINO\n",
            "                                                 images       class\n",
            "522           1634111672409_Casio Keyboard for sale.jpg    Keyboard\n",
            "213   1634111808648_High Power karaoke Speaker LA Br...     Speaker\n",
            "120   1634112180358_Olan Speaker System and Powered ...     Speaker\n",
            "1009           1634110460771_Atlason Piano for sale.jpg       Piano\n",
            "1065  1634111677793_Shure Sh300 G Uhf Dual Wireless ...  Microphone\n",
            "...                                                 ...         ...\n",
            "1044  1634112357286_Boya Studio M1DM Mic with Leathe...  Microphone\n",
            "1095                   1634112464781_Piano for sale.jpg       Piano\n",
            "1130         1634110700183_Rcf 18 Speakers for sale.jpg     Speaker\n",
            "860          1634112555286_Yamaha Speakers for sale.jpg     Speaker\n",
            "1126  1634110234608_Gr Hyper Series Bass Guitar for ...      Guitar\n",
            "\n",
            "[838 rows x 2 columns]\n",
            "CONJUNTO DE TESTE\n",
            "                                                 images        class\n",
            "1176  1634110943444_LUNA GYPSPALT Gypsy Spalt Solid ...       Guitar\n",
            "1014           1634113089890_Stage Speaker for sale.jpg      Speaker\n",
            "101                   1634112135885_Guitar for sale.jpg       Guitar\n",
            "439           1634112677280_Keyboard Piano for sale.jpg        Piano\n",
            "58    1634113175534_Ibanez SR 300 Bass Guitar for sa...       Guitar\n",
            "...                                                 ...          ...\n",
            "47       1634110463246_Double Top Speakers for sale.jpg      Speaker\n",
            "318            1634111602284_Microphone FD for sale.jpg   Microphone\n",
            "106              1634117435436_Bass Guitar for sale.jpg  Bass Guitar\n",
            "796               1634110998369_BC Speaker for sale.jpg      Speaker\n",
            "55               1634111676048_812R Guitar for sale.jpg       Guitar\n",
            "\n",
            "[360 rows x 2 columns]\n"
          ]
        }
      ]
    }
  ]
}